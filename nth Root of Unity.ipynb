{
 "cells": [
  {
   "cell_type": "code",
   "execution_count": null,
   "metadata": {
    "editable": true,
    "slideshow": {
     "slide_type": ""
    },
    "tags": []
   },
   "outputs": [],
   "source": [
    "from math import sin\n",
    "from math import cos\n",
    "from math import pi\n",
    "def not_a_natural_number(n):\n",
    "    for i in str(n):\n",
    "        if not (i in \"0123456789\"):\n",
    "            return True\n",
    "    if int(n) < 1:\n",
    "        return True\n",
    "    return False\n",
    "def nth_root_of_unity(n):\n",
    "    roots = []\n",
    "    if not_a_natural_number(n):\n",
    "        while not_a_natural_number(n):\n",
    "            n = input(\"Please enter a natural number: \")\n",
    "    n = int(n)\n",
    "    for i in range(n):\n",
    "        theta = i*2*pi/n\n",
    "        if sin(theta) == 1 or sin(theta) == -1 or cos(theta) == 1 or cos(theta) == -1:\n",
    "            if sin(theta) == 1 or sin(theta) == -1:\n",
    "                roots.append(complex(0, sin(theta)))\n",
    "            else:\n",
    "                roots.append(complex(cos(theta), 0))\n",
    "        else:\n",
    "            roots.append(complex(round(cos(theta), 12), round(sin(theta), 12)))\n",
    "    return roots\n",
    "print(\"Hi there! this program will help you find the nth roots of unity, which is 1.\")\n",
    "print(\"This will give you the approximate values of all real and complex numbers, which when raised to the nth power result in 1\")\n",
    "roots = nth_root_of_unity(input(\"What is your number n? \"))\n",
    "print(\"The \" + str(len(roots)) + \"th roots of 1 are:\")\n",
    "for i in range(len(roots)):\n",
    "    print(str(i+1) +  \". \" + str(roots[i]))\n",
    "print(\"The variable j represents the square root of -1.\")"
   ]
  }
 ],
 "metadata": {
  "kernelspec": {
   "display_name": "Python 3 (ipykernel)",
   "language": "python",
   "name": "python3"
  },
  "language_info": {
   "codemirror_mode": {
    "name": "ipython",
    "version": 3
   },
   "file_extension": ".py",
   "mimetype": "text/x-python",
   "name": "python",
   "nbconvert_exporter": "python",
   "pygments_lexer": "ipython3",
   "version": "3.12.3"
  }
 },
 "nbformat": 4,
 "nbformat_minor": 4
}
